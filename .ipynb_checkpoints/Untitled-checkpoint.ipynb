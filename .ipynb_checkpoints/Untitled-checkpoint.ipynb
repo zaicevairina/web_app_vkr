{
 "cells": [
  {
   "cell_type": "code",
   "execution_count": 2,
   "metadata": {},
   "outputs": [],
   "source": [
    "from nltk.stem.snowball import SnowballStemmer\n",
    "import csv\n",
    "import re\n",
    "from nltk.corpus import stopwords\n",
    "import pymorphy2\n",
    "from nltk.stem.porter import *\n",
    "\n",
    "from deeppavlov.dataset_readers.basic_classification_reader import BasicClassificationDatasetReader\n",
    "from deeppavlov.dataset_iterators.basic_classification_iterator import BasicClassificationDatasetIterator\n",
    "# from deeppavlov.models.preprocessors.str_lower import str_lower\n",
    "from deeppavlov.models.tokenizers.nltk_moses_tokenizer import NLTKMosesTokenizer\n",
    "from deeppavlov.core.data.simple_vocab import SimpleVocabulary\n",
    "from deeppavlov.models.sklearn import SklearnComponent\n",
    "from deeppavlov.metrics.accuracy import sets_accuracy\n",
    "import numpy as np\n",
    "\n",
    "stops = set(stopwords.words(\"english\")) | set(stopwords.words(\"russian\"))\n",
    "stops.add('рис')\n",
    "stops.add('университет')\n",
    "stops.add('брянск')\n",
    "\n",
    "morph=pymorphy2.MorphAnalyzer()\n",
    "stemmer=SnowballStemmer('russian')\n",
    "\n",
    "dict_stop=set(['метод','определение','условие','момент','значение','результат','критерий',\n",
    "               'работа','вариант','брянский государственный университет','научнотехнический вестник',\n",
    "              'соответствие','такой образ','весь критерий','пример','выбор','ключевое слово','период',\n",
    "              'уравнение','формула','множитель','повышение','оценка','проведение',\n",
    "              'машина','нагрузка','брянская область','точка','случай','расчет','таблица','расчёт',\n",
    "              'с показатель','град','обработка','статья','элемент','раз','применение','центр','форма'])\n"
   ]
  },
  {
   "cell_type": "code",
   "execution_count": 142,
   "metadata": {},
   "outputs": [],
   "source": [
    "import pickle\n",
    "import pandas as pd\n",
    "import pickle\n",
    "import re\n",
    "from deeppavlov.models.sklearn import SklearnComponent\n",
    "from nltk.stem.snowball import SnowballStemmer\n",
    "from nltk.corpus import stopwords\n",
    "import pymorphy2\n",
    "from nltk.stem.porter import *\n",
    "\n",
    "\n",
    "stops = set(stopwords.words(\"english\")) | set(stopwords.words(\"russian\"))\n",
    "stops.add('рис')\n",
    "stops.add('университет')\n",
    "stops.add('брянск')\n",
    "\n",
    "morph=pymorphy2.MorphAnalyzer()\n",
    "stemmer=SnowballStemmer('russian')\n",
    "\n",
    "def treatment_text(review):\n",
    "    try:\n",
    "        review_text = re.sub(\"[^а-яА-Яa-zA-Z0-9]\", \" \", review)\n",
    "        words = review_text.lower().split()\n",
    "        words = [w for w in words if not w in stops]\n",
    "        words = [morph.parse(w)[0].normal_form for w in words]\n",
    "        words = [stemmer.stem(w) for w in words]\n",
    "        words = [w for w in words if not w in stops]\n",
    "        return(' '.join(words))\n",
    "    except:\n",
    "        print('2wesdf')\n",
    "        return 'NONE'"
   ]
  },
  {
   "cell_type": "code",
   "execution_count": 143,
   "metadata": {},
   "outputs": [],
   "source": [
    "with open('dataset_knn.pickle', 'rb') as f:\n",
    "    df = pickle.load(f)\n",
    "# df.head()"
   ]
  },
  {
   "cell_type": "code",
   "execution_count": 144,
   "metadata": {},
   "outputs": [],
   "source": [
    "# x = df['title_kws'].values.tolist()\n",
    "# for i in range(len(x)):\n",
    "#     if isinstance(x[i],str) is False:\n",
    "#         x[i]='NONE'"
   ]
  },
  {
   "cell_type": "code",
   "execution_count": 147,
   "metadata": {},
   "outputs": [],
   "source": [
    "from sklearn.feature_extraction.text import TfidfVectorizer\n",
    "vectorizer = TfidfVectorizer()\n",
    "x=df['title_kws']\n",
    "X = vectorizer.fit_transform(x)"
   ]
  },
  {
   "cell_type": "code",
   "execution_count": 148,
   "metadata": {},
   "outputs": [],
   "source": [
    "from sklearn.feature_extraction.text import TfidfVectorizer, CountVectorizer\n",
    "from sklearn.neighbors import NearestNeighbors"
   ]
  },
  {
   "cell_type": "code",
   "execution_count": 149,
   "metadata": {},
   "outputs": [],
   "source": [
    " neigh = NearestNeighbors(n_neighbors=5,algorithm='brute').fit(X)"
   ]
  },
  {
   "cell_type": "code",
   "execution_count": 155,
   "metadata": {},
   "outputs": [],
   "source": [
    "with open('vectorizer.pickle', 'wb') as f:\n",
    "    pickle.dump(vectorizer, f)\n",
    "with open('vectorizer.pickle', 'rb') as f:\n",
    "    vectorizer = pickle.load(f)\n",
    "with open('knn.pickle', 'wb') as f:\n",
    "    pickle.dump(neigh, f)\n",
    "with open('knn.pickle', 'rb') as f:\n",
    "    neigh = pickle.load(f)\n"
   ]
  },
  {
   "cell_type": "code",
   "execution_count": 154,
   "metadata": {},
   "outputs": [
    {
     "data": {
      "text/plain": [
       "[['Азерников Владимир Ильич',\n",
       "  'Метод функций Грина оператора Лапласа в механике деформируемого твердого тела ',\n",
       "  'механика деформируемого твердого тела'],\n",
       " ['Марусева Инна Владимировна',\n",
       "  'Синтез оптимальных систем управления с элементами программного обеспечения ',\n",
       "  'автоматическое управление и регулирование'],\n",
       " ['Зайцев Андрей Александрович',\n",
       "  'Рентное регулирование устойчивости аграрных отношений  нормативно-динамический подход ',\n",
       "  'экономика и управление народным хозяйством, экономика, экономические науки,российская федерация,сельское хозяйство,государственное регулирование, рентное регулирование, сельское хозяйство'],\n",
       " ['Сай Вин Мо',\n",
       "  'Повышение эффективности систем автоматизированного управления в производственных иерархиях ',\n",
       "  'системный анализ, управление и обработка информации, радиоэлектроника,автоматика и телемеханика,автоматика,теория автоматического регулирования, управления и контроля,математическое моделирование, применение вычислительной техники'],\n",
       " ['Цой Людмила Григорьевна',\n",
       "  'Управление вращательным движением твердого тела в условиях неполной информации ',\n",
       "  'автоматическое управление и регулирование']]"
      ]
     },
     "execution_count": 154,
     "metadata": {},
     "output_type": "execute_result"
    }
   ],
   "source": [
    "s = 'теория управления лаплас регулирование схема тау'\n",
    "s = treatment_text(s)\n",
    "s = vectorizer.transform([s])\n",
    "s = s.toarray()\n",
    "result = neigh.kneighbors(s)[1][0]\n",
    "r =[]\n",
    "for i in result:\n",
    "    r.append(df.loc[i][['author','title','keywords']].values.tolist())\n",
    "r"
   ]
  },
  {
   "cell_type": "code",
   "execution_count": null,
   "metadata": {},
   "outputs": [],
   "source": []
  }
 ],
 "metadata": {
  "kernelspec": {
   "display_name": "Python 3",
   "language": "python",
   "name": "python3"
  },
  "language_info": {
   "codemirror_mode": {
    "name": "ipython",
    "version": 3
   },
   "file_extension": ".py",
   "mimetype": "text/x-python",
   "name": "python",
   "nbconvert_exporter": "python",
   "pygments_lexer": "ipython3",
   "version": "3.6.5"
  }
 },
 "nbformat": 4,
 "nbformat_minor": 2
}
